{
 "cells": [
  {
   "cell_type": "markdown",
   "id": "0eb31a5b",
   "metadata": {},
   "source": [
    "# Stock Market Prediction and Forecasting Using Stacked LSTM\n",
    "In this project we will Predict the stock market price of TATA Global. The working process is as follows:\n",
    "- Step 1: Collect the Stock data\n",
    "- Step 2: Preprocess the Data- Train and Test\n",
    "- Step 3: Create an Stacked LSTM model\n",
    "- Step 4: Predict the test data and plot the output\n",
    "- Step 5: Predict the future 30 days and plot the output"
   ]
  },
  {
   "cell_type": "code",
   "execution_count": 1,
   "id": "38b55adc",
   "metadata": {},
   "outputs": [],
   "source": [
    "import pandas as pd"
   ]
  },
  {
   "cell_type": "code",
   "execution_count": 4,
   "id": "1c1e2bce",
   "metadata": {},
   "outputs": [],
   "source": [
    "df = pd.read_csv('./DATA/stockprice.csv')"
   ]
  },
  {
   "cell_type": "code",
   "execution_count": 5,
   "id": "3a4f54e4",
   "metadata": {},
   "outputs": [
    {
     "data": {
      "text/html": [
       "<div>\n",
       "<style scoped>\n",
       "    .dataframe tbody tr th:only-of-type {\n",
       "        vertical-align: middle;\n",
       "    }\n",
       "\n",
       "    .dataframe tbody tr th {\n",
       "        vertical-align: top;\n",
       "    }\n",
       "\n",
       "    .dataframe thead th {\n",
       "        text-align: right;\n",
       "    }\n",
       "</style>\n",
       "<table border=\"1\" class=\"dataframe\">\n",
       "  <thead>\n",
       "    <tr style=\"text-align: right;\">\n",
       "      <th></th>\n",
       "      <th>Date</th>\n",
       "      <th>Open</th>\n",
       "      <th>High</th>\n",
       "      <th>Low</th>\n",
       "      <th>Last</th>\n",
       "      <th>Close</th>\n",
       "      <th>Total Trade Quantity</th>\n",
       "      <th>Turnover (Lacs)</th>\n",
       "    </tr>\n",
       "  </thead>\n",
       "  <tbody>\n",
       "    <tr>\n",
       "      <th>0</th>\n",
       "      <td>2018-09-28</td>\n",
       "      <td>234.05</td>\n",
       "      <td>235.95</td>\n",
       "      <td>230.20</td>\n",
       "      <td>233.50</td>\n",
       "      <td>233.75</td>\n",
       "      <td>3069914</td>\n",
       "      <td>7162.35</td>\n",
       "    </tr>\n",
       "    <tr>\n",
       "      <th>1</th>\n",
       "      <td>2018-09-27</td>\n",
       "      <td>234.55</td>\n",
       "      <td>236.80</td>\n",
       "      <td>231.10</td>\n",
       "      <td>233.80</td>\n",
       "      <td>233.25</td>\n",
       "      <td>5082859</td>\n",
       "      <td>11859.95</td>\n",
       "    </tr>\n",
       "    <tr>\n",
       "      <th>2</th>\n",
       "      <td>2018-09-26</td>\n",
       "      <td>240.00</td>\n",
       "      <td>240.00</td>\n",
       "      <td>232.50</td>\n",
       "      <td>235.00</td>\n",
       "      <td>234.25</td>\n",
       "      <td>2240909</td>\n",
       "      <td>5248.60</td>\n",
       "    </tr>\n",
       "    <tr>\n",
       "      <th>3</th>\n",
       "      <td>2018-09-25</td>\n",
       "      <td>233.30</td>\n",
       "      <td>236.75</td>\n",
       "      <td>232.00</td>\n",
       "      <td>236.25</td>\n",
       "      <td>236.10</td>\n",
       "      <td>2349368</td>\n",
       "      <td>5503.90</td>\n",
       "    </tr>\n",
       "    <tr>\n",
       "      <th>4</th>\n",
       "      <td>2018-09-24</td>\n",
       "      <td>233.55</td>\n",
       "      <td>239.20</td>\n",
       "      <td>230.75</td>\n",
       "      <td>234.00</td>\n",
       "      <td>233.30</td>\n",
       "      <td>3423509</td>\n",
       "      <td>7999.55</td>\n",
       "    </tr>\n",
       "  </tbody>\n",
       "</table>\n",
       "</div>"
      ],
      "text/plain": [
       "         Date    Open    High     Low    Last   Close  Total Trade Quantity  \\\n",
       "0  2018-09-28  234.05  235.95  230.20  233.50  233.75               3069914   \n",
       "1  2018-09-27  234.55  236.80  231.10  233.80  233.25               5082859   \n",
       "2  2018-09-26  240.00  240.00  232.50  235.00  234.25               2240909   \n",
       "3  2018-09-25  233.30  236.75  232.00  236.25  236.10               2349368   \n",
       "4  2018-09-24  233.55  239.20  230.75  234.00  233.30               3423509   \n",
       "\n",
       "   Turnover (Lacs)  \n",
       "0          7162.35  \n",
       "1         11859.95  \n",
       "2          5248.60  \n",
       "3          5503.90  \n",
       "4          7999.55  "
      ]
     },
     "execution_count": 5,
     "metadata": {},
     "output_type": "execute_result"
    }
   ],
   "source": [
    "df.head()"
   ]
  },
  {
   "cell_type": "code",
   "execution_count": 6,
   "id": "e4d22efd",
   "metadata": {},
   "outputs": [
    {
     "data": {
      "text/html": [
       "<div>\n",
       "<style scoped>\n",
       "    .dataframe tbody tr th:only-of-type {\n",
       "        vertical-align: middle;\n",
       "    }\n",
       "\n",
       "    .dataframe tbody tr th {\n",
       "        vertical-align: top;\n",
       "    }\n",
       "\n",
       "    .dataframe thead th {\n",
       "        text-align: right;\n",
       "    }\n",
       "</style>\n",
       "<table border=\"1\" class=\"dataframe\">\n",
       "  <thead>\n",
       "    <tr style=\"text-align: right;\">\n",
       "      <th></th>\n",
       "      <th>Date</th>\n",
       "      <th>Open</th>\n",
       "      <th>High</th>\n",
       "      <th>Low</th>\n",
       "      <th>Last</th>\n",
       "      <th>Close</th>\n",
       "      <th>Total Trade Quantity</th>\n",
       "      <th>Turnover (Lacs)</th>\n",
       "    </tr>\n",
       "  </thead>\n",
       "  <tbody>\n",
       "    <tr>\n",
       "      <th>2030</th>\n",
       "      <td>2010-07-27</td>\n",
       "      <td>117.6</td>\n",
       "      <td>119.50</td>\n",
       "      <td>112.00</td>\n",
       "      <td>118.80</td>\n",
       "      <td>118.65</td>\n",
       "      <td>586100</td>\n",
       "      <td>694.98</td>\n",
       "    </tr>\n",
       "    <tr>\n",
       "      <th>2031</th>\n",
       "      <td>2010-07-26</td>\n",
       "      <td>120.1</td>\n",
       "      <td>121.00</td>\n",
       "      <td>117.10</td>\n",
       "      <td>117.10</td>\n",
       "      <td>117.60</td>\n",
       "      <td>658440</td>\n",
       "      <td>780.01</td>\n",
       "    </tr>\n",
       "    <tr>\n",
       "      <th>2032</th>\n",
       "      <td>2010-07-23</td>\n",
       "      <td>121.8</td>\n",
       "      <td>121.95</td>\n",
       "      <td>120.25</td>\n",
       "      <td>120.35</td>\n",
       "      <td>120.65</td>\n",
       "      <td>281312</td>\n",
       "      <td>340.31</td>\n",
       "    </tr>\n",
       "    <tr>\n",
       "      <th>2033</th>\n",
       "      <td>2010-07-22</td>\n",
       "      <td>120.3</td>\n",
       "      <td>122.00</td>\n",
       "      <td>120.25</td>\n",
       "      <td>120.75</td>\n",
       "      <td>120.90</td>\n",
       "      <td>293312</td>\n",
       "      <td>355.17</td>\n",
       "    </tr>\n",
       "    <tr>\n",
       "      <th>2034</th>\n",
       "      <td>2010-07-21</td>\n",
       "      <td>122.1</td>\n",
       "      <td>123.00</td>\n",
       "      <td>121.05</td>\n",
       "      <td>121.10</td>\n",
       "      <td>121.55</td>\n",
       "      <td>658666</td>\n",
       "      <td>803.56</td>\n",
       "    </tr>\n",
       "  </tbody>\n",
       "</table>\n",
       "</div>"
      ],
      "text/plain": [
       "            Date   Open    High     Low    Last   Close  Total Trade Quantity  \\\n",
       "2030  2010-07-27  117.6  119.50  112.00  118.80  118.65                586100   \n",
       "2031  2010-07-26  120.1  121.00  117.10  117.10  117.60                658440   \n",
       "2032  2010-07-23  121.8  121.95  120.25  120.35  120.65                281312   \n",
       "2033  2010-07-22  120.3  122.00  120.25  120.75  120.90                293312   \n",
       "2034  2010-07-21  122.1  123.00  121.05  121.10  121.55                658666   \n",
       "\n",
       "      Turnover (Lacs)  \n",
       "2030           694.98  \n",
       "2031           780.01  \n",
       "2032           340.31  \n",
       "2033           355.17  \n",
       "2034           803.56  "
      ]
     },
     "execution_count": 6,
     "metadata": {},
     "output_type": "execute_result"
    }
   ],
   "source": [
    "df.tail()"
   ]
  },
  {
   "cell_type": "code",
   "execution_count": 12,
   "id": "8e61b869",
   "metadata": {},
   "outputs": [],
   "source": [
    "# selecting the opening price of stock\n",
    "op = df.reset_index()['Open']"
   ]
  },
  {
   "cell_type": "code",
   "execution_count": 13,
   "id": "c5aec278",
   "metadata": {
    "scrolled": true
   },
   "outputs": [
    {
     "data": {
      "text/plain": [
       "(2035,)"
      ]
     },
     "execution_count": 13,
     "metadata": {},
     "output_type": "execute_result"
    }
   ],
   "source": [
    "op.shape"
   ]
  },
  {
   "cell_type": "code",
   "execution_count": 16,
   "id": "f5eb6827",
   "metadata": {},
   "outputs": [
    {
     "data": {
      "text/plain": [
       "0       234.05\n",
       "1       234.55\n",
       "2       240.00\n",
       "3       233.30\n",
       "4       233.55\n",
       "         ...  \n",
       "2030    117.60\n",
       "2031    120.10\n",
       "2032    121.80\n",
       "2033    120.30\n",
       "2034    122.10\n",
       "Name: Open, Length: 2035, dtype: float64"
      ]
     },
     "execution_count": 16,
     "metadata": {},
     "output_type": "execute_result"
    }
   ],
   "source": [
    "# print the opening price \n",
    "op"
   ]
  },
  {
   "cell_type": "code",
   "execution_count": 14,
   "id": "5b72fccd",
   "metadata": {},
   "outputs": [
    {
     "data": {
      "text/plain": [
       "[<matplotlib.lines.Line2D at 0x1ae5f81ad10>]"
      ]
     },
     "execution_count": 14,
     "metadata": {},
     "output_type": "execute_result"
    },
    {
     "data": {
      "image/png": "[encoded data removed]",
      "text/plain": [
       "<Figure size 640x480 with 1 Axes>"
      ]
     },
     "metadata": {},
     "output_type": "display_data"
    }
   ],
   "source": [
    "# plotting the graph of opening price data (visualizing)\n",
    "import matplotlib.pyplot as plt\n",
    "plt.plot(op)"
   ]
  },
  {
   "cell_type": "markdown",
   "id": "01e73802",
   "metadata": {},
   "source": [
    "# Preprocessing the data"
   ]
  },
  {
   "cell_type": "code",
   "execution_count": 17,
   "id": "42d590f6",
   "metadata": {},
   "outputs": [],
   "source": [
    "### LSTM are sensitive to the of data, so we apply MinMax scaler"
   ]
  },
  {
   "cell_type": "code",
   "execution_count": 18,
   "id": "2af92dda",
   "metadata": {},
   "outputs": [],
   "source": [
    "import numpy as np"
   ]
  },
  {
   "cell_type": "code",
   "execution_count": 20,
   "id": "ecab4653",
   "metadata": {},
   "outputs": [],
   "source": [
    "from sklearn.preprocessing import MinMaxScaler\n",
    "scaler = MinMaxScaler(feature_range=(0,1))\n",
    "op = scaler.fit_transform(np.array(op).reshape(-1,1))"
   ]
  },
  {
   "cell_type": "code",
   "execution_count": 21,
   "id": "17885c90",
   "metadata": {
    "scrolled": false
   },
   "outputs": [
    {
     "name": "stdout",
     "output_type": "stream",
     "text": [
      "[[0.6202352 ]\n",
      " [0.62226277]\n",
      " [0.64436334]\n",
      " ...\n",
      " [0.16504461]\n",
      " [0.15896188]\n",
      " [0.16626115]]\n"
     ]
    }
   ],
   "source": [
    "print(op)"
   ]
  },
  {
   "cell_type": "code",
   "execution_count": 22,
   "id": "2599d4d2",
   "metadata": {},
   "outputs": [],
   "source": [
    "### Splitting dataset into train and test split\n",
    "training_size = int(len(op)*0.65)\n",
    "test_size = len(op)-training_size\n",
    "train_data,test_data= op[0:training_size],op[training_size:len(op),:1]"
   ]
  },
  {
   "cell_type": "code",
   "execution_count": 23,
   "id": "e40c0db2",
   "metadata": {},
   "outputs": [
    {
     "data": {
      "text/plain": [
       "(1322, 713)"
      ]
     },
     "execution_count": 23,
     "metadata": {},
     "output_type": "execute_result"
    }
   ],
   "source": [
    "training_size, test_size"
   ]
  },
  {
   "cell_type": "code",
   "execution_count": 27,
   "id": "37021577",
   "metadata": {},
   "outputs": [],
   "source": [
    "import numpy\n",
    "# convert an array of values into a dataset matrix\n",
    "def create_dataset(dataset, time_step=1):\n",
    "    dataX, dataY = [], []\n",
    "    for i in range(len(dataset)-time_step-1):\n",
    "        a = dataset[i:(i+time_step), 0]\n",
    "        dataX.append(a)\n",
    "        dataY.append(dataset[i + time_step, 0])\n",
    "    return numpy.array(dataX), numpy.array(dataY)"
   ]
  },
  {
   "cell_type": "code",
   "execution_count": 28,
   "id": "09136c34",
   "metadata": {},
   "outputs": [],
   "source": [
    "# reshape into X=t, t+1, t+2, t+3 and Y= t+4\n",
    "time_step = 100\n",
    "X_train, y_train = create_dataset(train_data, time_step)\n",
    "X_test, y_test = create_dataset(test_data, time_step)"
   ]
  },
  {
   "cell_type": "code",
   "execution_count": 29,
   "id": "ed3fe115",
   "metadata": {},
   "outputs": [
    {
     "name": "stdout",
     "output_type": "stream",
     "text": [
      "[[0.6202352  0.62226277 0.64436334 ... 0.85908354 0.84549878 0.87145174]\n",
      " [0.62226277 0.64436334 0.61719384 ... 0.84549878 0.87145174 0.84225466]\n",
      " [0.64436334 0.61719384 0.61820762 ... 0.87145174 0.84225466 0.83515815]\n",
      " ...\n",
      " [0.31589619 0.32846715 0.3215734  ... 0.27047851 0.26277372 0.27716951]\n",
      " [0.32846715 0.3215734  0.33819951 ... 0.26277372 0.27716951 0.24756691]\n",
      " [0.3215734  0.33819951 0.33292782 ... 0.27716951 0.24756691 0.26094891]]\n"
     ]
    }
   ],
   "source": [
    "print(X_train)"
   ]
  },
  {
   "cell_type": "code",
   "execution_count": 31,
   "id": "6947780c",
   "metadata": {},
   "outputs": [
    {
     "name": "stdout",
     "output_type": "stream",
     "text": [
      "(1221, 100)\n",
      "(1221,)\n"
     ]
    },
    {
     "data": {
      "text/plain": [
       "(None, None)"
      ]
     },
     "execution_count": 31,
     "metadata": {},
     "output_type": "execute_result"
    }
   ],
   "source": [
    "print(X_train.shape), print(y_train.shape)"
   ]
  },
  {
   "cell_type": "code",
   "execution_count": 30,
   "id": "d23c22c3",
   "metadata": {
    "scrolled": true
   },
   "outputs": [
    {
     "name": "stdout",
     "output_type": "stream",
     "text": [
      "(612, 100)\n",
      "(612,)\n"
     ]
    },
    {
     "data": {
      "text/plain": [
       "(None, None)"
      ]
     },
     "execution_count": 30,
     "metadata": {},
     "output_type": "execute_result"
    }
   ],
   "source": [
    "print(X_test.shape), print(y_test.shape)"
   ]
  },
  {
   "cell_type": "code",
   "execution_count": 32,
   "id": "0afeb445",
   "metadata": {},
   "outputs": [],
   "source": [
    "# reshape input to be [saple, time steps, features] which is required for LSTM\n",
    "X_train = X_train.reshape(X_train.shape[0], X_train.shape[1], 1)\n",
    "X_test = X_test.reshape(X_test.shape[0], X_test.shape[1], 1)"
   ]
  },
  {
   "cell_type": "markdown",
   "id": "f710a587",
   "metadata": {},
   "source": [
    "# Creating the LSTM model"
   ]
  },
  {
   "cell_type": "code",
   "execution_count": 33,
   "id": "a17a8aed",
   "metadata": {},
   "outputs": [],
   "source": [
    "### Create the stacked LSTM Model\n",
    "from tensorflow.keras.models import Sequential\n",
    "from tensorflow.keras.layers import Dense\n",
    "from tensorflow.keras.layers import LSTM"
   ]
  },
  {
   "cell_type": "code",
   "execution_count": 34,
   "id": "8684c1cf",
   "metadata": {},
   "outputs": [],
   "source": [
    "model = Sequential()\n",
    "model.add(LSTM(50, return_sequences = True, input_shape=(100,1)))\n",
    "model.add(LSTM(50, return_sequences = True))\n",
    "model.add(LSTM(50))\n",
    "model.add(Dense(1))\n",
    "model.compile(loss='mean_squared_error', optimizer='adam')"
   ]
  },
  {
   "cell_type": "code",
   "execution_count": 36,
   "id": "772ebf68",
   "metadata": {},
   "outputs": [
    {
     "name": "stdout",
     "output_type": "stream",
     "text": [
      "Model: \"sequential\"\n",
      "_________________________________________________________________\n",
      " Layer (type)                Output Shape              Param #   \n",
      "=================================================================\n",
      " lstm (LSTM)                 (None, 100, 50)           10400     \n",
      "                                                                 \n",
      " lstm_1 (LSTM)               (None, 100, 50)           20200     \n",
      "                                                                 \n",
      " lstm_2 (LSTM)               (None, 50)                20200     \n",
      "                                                                 \n",
      " dense (Dense)               (None, 1)                 51        \n",
      "                                                                 \n",
      "=================================================================\n",
      "Total params: 50851 (198.64 KB)\n",
      "Trainable params: 50851 (198.64 KB)\n",
      "Non-trainable params: 0 (0.00 Byte)\n",
      "_________________________________________________________________\n"
     ]
    }
   ],
   "source": [
    "model.summary()"
   ]
  },
  {
   "cell_type": "code",
   "execution_count": 37,
   "id": "aa519ead",
   "metadata": {},
   "outputs": [
    {
     "name": "stdout",
     "output_type": "stream",
     "text": [
      "Epoch 1/100\n",
      "20/20 [==============================] - 14s 346ms/step - loss: 0.0258 - val_loss: 0.0049\n",
      "Epoch 2/100\n",
      "20/20 [==============================] - 5s 225ms/step - loss: 0.0027 - val_loss: 0.0011\n",
      "Epoch 3/100\n",
      "20/20 [==============================] - 5s 268ms/step - loss: 0.0016 - val_loss: 0.0011\n",
      "Epoch 4/100\n",
      "20/20 [==============================] - 4s 206ms/step - loss: 0.0016 - val_loss: 8.4989e-04\n",
      "Epoch 5/100\n",
      "20/20 [==============================] - 5s 261ms/step - loss: 0.0017 - val_loss: 0.0011\n",
      "Epoch 6/100\n",
      "20/20 [==============================] - 5s 239ms/step - loss: 0.0014 - val_loss: 0.0010\n",
      "Epoch 7/100\n",
      "20/20 [==============================] - 5s 261ms/step - loss: 0.0014 - val_loss: 0.0010\n",
      "Epoch 8/100\n",
      "20/20 [==============================] - 5s 228ms/step - loss: 0.0012 - val_loss: 0.0010\n",
      "Epoch 9/100\n",
      "20/20 [==============================] - 5s 250ms/step - loss: 0.0012 - val_loss: 9.6362e-04\n",
      "Epoch 10/100\n",
      "20/20 [==============================] - 5s 239ms/step - loss: 0.0011 - val_loss: 7.9423e-04\n",
      "Epoch 11/100\n",
      "20/20 [==============================] - 5s 258ms/step - loss: 0.0011 - val_loss: 8.9471e-04\n",
      "Epoch 12/100\n",
      "20/20 [==============================] - 5s 240ms/step - loss: 0.0011 - val_loss: 7.3995e-04\n",
      "Epoch 13/100\n",
      "20/20 [==============================] - 5s 267ms/step - loss: 0.0011 - val_loss: 0.0011\n",
      "Epoch 14/100\n",
      "20/20 [==============================] - 5s 234ms/step - loss: 9.5827e-04 - val_loss: 9.2182e-04\n",
      "Epoch 15/100\n",
      "20/20 [==============================] - 5s 232ms/step - loss: 9.6181e-04 - val_loss: 6.5774e-04\n",
      "Epoch 16/100\n",
      "20/20 [==============================] - 5s 249ms/step - loss: 9.6518e-04 - val_loss: 6.6421e-04\n",
      "Epoch 17/100\n",
      "20/20 [==============================] - 5s 245ms/step - loss: 9.0084e-04 - val_loss: 9.6162e-04\n",
      "Epoch 18/100\n",
      "20/20 [==============================] - 5s 251ms/step - loss: 8.6818e-04 - val_loss: 8.7307e-04\n",
      "Epoch 19/100\n",
      "20/20 [==============================] - 4s 219ms/step - loss: 8.2911e-04 - val_loss: 0.0012\n",
      "Epoch 20/100\n",
      "20/20 [==============================] - 5s 260ms/step - loss: 9.5198e-04 - val_loss: 0.0011\n",
      "Epoch 21/100\n",
      "20/20 [==============================] - 5s 245ms/step - loss: 8.6515e-04 - val_loss: 8.0146e-04\n",
      "Epoch 22/100\n",
      "20/20 [==============================] - 5s 256ms/step - loss: 8.0433e-04 - val_loss: 6.7903e-04\n",
      "Epoch 23/100\n",
      "20/20 [==============================] - 4s 224ms/step - loss: 7.3745e-04 - val_loss: 6.4404e-04\n",
      "Epoch 24/100\n",
      "20/20 [==============================] - 5s 273ms/step - loss: 7.3495e-04 - val_loss: 7.1088e-04\n",
      "Epoch 25/100\n",
      "20/20 [==============================] - 5s 227ms/step - loss: 7.1093e-04 - val_loss: 7.7145e-04\n",
      "Epoch 26/100\n",
      "20/20 [==============================] - 5s 261ms/step - loss: 7.9786e-04 - val_loss: 6.1539e-04\n",
      "Epoch 27/100\n",
      "20/20 [==============================] - 4s 222ms/step - loss: 8.2905e-04 - val_loss: 7.1738e-04\n",
      "Epoch 28/100\n",
      "20/20 [==============================] - 4s 212ms/step - loss: 7.4617e-04 - val_loss: 6.6246e-04\n",
      "Epoch 29/100\n",
      "20/20 [==============================] - 4s 211ms/step - loss: 6.6912e-04 - val_loss: 7.9893e-04\n",
      "Epoch 30/100\n",
      "20/20 [==============================] - 4s 210ms/step - loss: 7.0145e-04 - val_loss: 6.3555e-04\n",
      "Epoch 31/100\n",
      "20/20 [==============================] - 4s 190ms/step - loss: 7.0019e-04 - val_loss: 0.0010\n",
      "Epoch 32/100\n",
      "20/20 [==============================] - 5s 236ms/step - loss: 8.4443e-04 - val_loss: 5.7209e-04\n",
      "Epoch 33/100\n",
      "20/20 [==============================] - 5s 231ms/step - loss: 6.6963e-04 - val_loss: 0.0010\n",
      "Epoch 34/100\n",
      "20/20 [==============================] - 4s 222ms/step - loss: 7.0426e-04 - val_loss: 5.5573e-04\n",
      "Epoch 35/100\n",
      "20/20 [==============================] - 4s 210ms/step - loss: 7.6562e-04 - val_loss: 6.7335e-04\n",
      "Epoch 36/100\n",
      "20/20 [==============================] - 4s 222ms/step - loss: 6.2661e-04 - val_loss: 5.4559e-04\n",
      "Epoch 37/100\n",
      "20/20 [==============================] - 4s 220ms/step - loss: 6.6913e-04 - val_loss: 7.9908e-04\n",
      "Epoch 38/100\n",
      "20/20 [==============================] - 4s 212ms/step - loss: 6.2824e-04 - val_loss: 5.1572e-04\n",
      "Epoch 39/100\n",
      "20/20 [==============================] - 4s 226ms/step - loss: 7.0255e-04 - val_loss: 5.6325e-04\n",
      "Epoch 40/100\n",
      "20/20 [==============================] - 5s 260ms/step - loss: 6.6410e-04 - val_loss: 6.1496e-04\n",
      "Epoch 41/100\n",
      "20/20 [==============================] - 6s 284ms/step - loss: 6.4888e-04 - val_loss: 5.9730e-04\n",
      "Epoch 42/100\n",
      "20/20 [==============================] - 5s 256ms/step - loss: 6.0942e-04 - val_loss: 5.0615e-04\n",
      "Epoch 43/100\n",
      "20/20 [==============================] - 5s 263ms/step - loss: 5.4650e-04 - val_loss: 8.2803e-04\n",
      "Epoch 44/100\n",
      "20/20 [==============================] - 4s 207ms/step - loss: 6.8636e-04 - val_loss: 5.1918e-04\n",
      "Epoch 45/100\n",
      "20/20 [==============================] - 4s 212ms/step - loss: 6.6988e-04 - val_loss: 4.1958e-04\n",
      "Epoch 46/100\n",
      "20/20 [==============================] - 4s 217ms/step - loss: 5.4755e-04 - val_loss: 5.3356e-04\n",
      "Epoch 47/100\n",
      "20/20 [==============================] - 4s 216ms/step - loss: 5.4049e-04 - val_loss: 5.1182e-04\n",
      "Epoch 48/100\n",
      "20/20 [==============================] - 4s 216ms/step - loss: 5.9031e-04 - val_loss: 5.7898e-04\n",
      "Epoch 49/100\n",
      "20/20 [==============================] - 4s 198ms/step - loss: 6.1016e-04 - val_loss: 4.6139e-04\n",
      "Epoch 50/100\n",
      "20/20 [==============================] - 4s 214ms/step - loss: 5.2251e-04 - val_loss: 4.4972e-04\n",
      "Epoch 51/100\n",
      "20/20 [==============================] - 4s 213ms/step - loss: 5.7159e-04 - val_loss: 4.0098e-04\n",
      "Epoch 52/100\n",
      "20/20 [==============================] - 4s 220ms/step - loss: 5.0610e-04 - val_loss: 4.4823e-04\n",
      "Epoch 53/100\n",
      "20/20 [==============================] - 4s 214ms/step - loss: 5.8245e-04 - val_loss: 5.9059e-04\n",
      "Epoch 54/100\n",
      "20/20 [==============================] - 4s 196ms/step - loss: 4.7194e-04 - val_loss: 3.9779e-04\n",
      "Epoch 55/100\n",
      "20/20 [==============================] - 4s 213ms/step - loss: 5.0243e-04 - val_loss: 6.2092e-04\n",
      "Epoch 56/100\n",
      "20/20 [==============================] - 4s 221ms/step - loss: 7.2540e-04 - val_loss: 5.6758e-04\n",
      "Epoch 57/100\n",
      "20/20 [==============================] - 4s 211ms/step - loss: 4.7246e-04 - val_loss: 4.2508e-04\n",
      "Epoch 58/100\n",
      "20/20 [==============================] - 4s 205ms/step - loss: 5.0273e-04 - val_loss: 4.8054e-04\n",
      "Epoch 59/100\n",
      "20/20 [==============================] - 4s 222ms/step - loss: 4.4228e-04 - val_loss: 5.2353e-04\n",
      "Epoch 60/100\n",
      "20/20 [==============================] - 4s 210ms/step - loss: 4.5719e-04 - val_loss: 3.7153e-04\n",
      "Epoch 61/100\n",
      "20/20 [==============================] - 4s 211ms/step - loss: 5.0813e-04 - val_loss: 5.1539e-04\n",
      "Epoch 62/100\n",
      "20/20 [==============================] - 4s 209ms/step - loss: 6.1739e-04 - val_loss: 3.9501e-04\n",
      "Epoch 63/100\n",
      "20/20 [==============================] - 4s 214ms/step - loss: 4.5055e-04 - val_loss: 5.1878e-04\n",
      "Epoch 64/100\n",
      "20/20 [==============================] - 4s 213ms/step - loss: 4.1754e-04 - val_loss: 3.6594e-04\n",
      "Epoch 65/100\n",
      "20/20 [==============================] - 4s 218ms/step - loss: 4.2956e-04 - val_loss: 5.8965e-04\n",
      "Epoch 66/100\n",
      "20/20 [==============================] - 4s 211ms/step - loss: 4.6877e-04 - val_loss: 3.8204e-04\n",
      "Epoch 67/100\n",
      "20/20 [==============================] - 4s 205ms/step - loss: 5.2984e-04 - val_loss: 5.1783e-04\n",
      "Epoch 68/100\n",
      "20/20 [==============================] - 4s 215ms/step - loss: 4.1846e-04 - val_loss: 3.5414e-04\n",
      "Epoch 69/100\n",
      "20/20 [==============================] - 4s 209ms/step - loss: 3.8722e-04 - val_loss: 3.8204e-04\n",
      "Epoch 70/100\n",
      "20/20 [==============================] - 4s 208ms/step - loss: 3.7477e-04 - val_loss: 4.1742e-04\n",
      "Epoch 71/100\n",
      "20/20 [==============================] - 4s 202ms/step - loss: 4.0492e-04 - val_loss: 4.2625e-04\n",
      "Epoch 72/100\n",
      "20/20 [==============================] - 4s 209ms/step - loss: 3.6272e-04 - val_loss: 3.3568e-04\n",
      "Epoch 73/100\n",
      "20/20 [==============================] - 4s 217ms/step - loss: 3.8327e-04 - val_loss: 4.1631e-04\n",
      "Epoch 74/100\n",
      "20/20 [==============================] - 4s 217ms/step - loss: 3.5800e-04 - val_loss: 9.0462e-04\n",
      "Epoch 75/100\n",
      "20/20 [==============================] - 4s 211ms/step - loss: 9.0614e-04 - val_loss: 3.3160e-04\n",
      "Epoch 76/100\n"
     ]
    },
    {
     "name": "stdout",
     "output_type": "stream",
     "text": [
      "20/20 [==============================] - 4s 200ms/step - loss: 4.7217e-04 - val_loss: 3.0003e-04\n",
      "Epoch 77/100\n",
      "20/20 [==============================] - 4s 212ms/step - loss: 3.7780e-04 - val_loss: 3.2696e-04\n",
      "Epoch 78/100\n",
      "20/20 [==============================] - 4s 217ms/step - loss: 3.7175e-04 - val_loss: 3.1239e-04\n",
      "Epoch 79/100\n",
      "20/20 [==============================] - 4s 216ms/step - loss: 4.1460e-04 - val_loss: 3.3504e-04\n",
      "Epoch 80/100\n",
      "20/20 [==============================] - 4s 207ms/step - loss: 3.3892e-04 - val_loss: 3.5959e-04\n",
      "Epoch 81/100\n",
      "20/20 [==============================] - 4s 199ms/step - loss: 3.4923e-04 - val_loss: 2.9425e-04\n",
      "Epoch 82/100\n",
      "20/20 [==============================] - 4s 207ms/step - loss: 3.3094e-04 - val_loss: 4.3619e-04\n",
      "Epoch 83/100\n",
      "20/20 [==============================] - 4s 217ms/step - loss: 3.4039e-04 - val_loss: 3.5347e-04\n",
      "Epoch 84/100\n",
      "20/20 [==============================] - 4s 207ms/step - loss: 4.5933e-04 - val_loss: 2.9006e-04\n",
      "Epoch 85/100\n",
      "20/20 [==============================] - 4s 207ms/step - loss: 3.2834e-04 - val_loss: 2.7911e-04\n",
      "Epoch 86/100\n",
      "20/20 [==============================] - 4s 203ms/step - loss: 2.9777e-04 - val_loss: 2.6415e-04\n",
      "Epoch 87/100\n",
      "20/20 [==============================] - 4s 221ms/step - loss: 3.1972e-04 - val_loss: 2.5255e-04\n",
      "Epoch 88/100\n",
      "20/20 [==============================] - 4s 206ms/step - loss: 3.0414e-04 - val_loss: 3.4988e-04\n",
      "Epoch 89/100\n",
      "20/20 [==============================] - 4s 207ms/step - loss: 3.0942e-04 - val_loss: 2.8087e-04\n",
      "Epoch 90/100\n",
      "20/20 [==============================] - 4s 197ms/step - loss: 2.8115e-04 - val_loss: 3.1777e-04\n",
      "Epoch 91/100\n",
      "20/20 [==============================] - 4s 205ms/step - loss: 2.9146e-04 - val_loss: 2.8426e-04\n",
      "Epoch 92/100\n",
      "20/20 [==============================] - 4s 208ms/step - loss: 2.9342e-04 - val_loss: 3.2797e-04\n",
      "Epoch 93/100\n",
      "20/20 [==============================] - 4s 213ms/step - loss: 2.7780e-04 - val_loss: 2.8218e-04\n",
      "Epoch 94/100\n",
      "20/20 [==============================] - 4s 205ms/step - loss: 2.8430e-04 - val_loss: 2.5400e-04\n",
      "Epoch 95/100\n",
      "20/20 [==============================] - 4s 195ms/step - loss: 3.7888e-04 - val_loss: 4.4735e-04\n",
      "Epoch 96/100\n",
      "20/20 [==============================] - 4s 214ms/step - loss: 3.1841e-04 - val_loss: 2.6461e-04\n",
      "Epoch 97/100\n",
      "20/20 [==============================] - 4s 206ms/step - loss: 3.4477e-04 - val_loss: 3.0549e-04\n",
      "Epoch 98/100\n",
      "20/20 [==============================] - 4s 208ms/step - loss: 3.0909e-04 - val_loss: 2.3121e-04\n",
      "Epoch 99/100\n",
      "20/20 [==============================] - 5s 232ms/step - loss: 2.7519e-04 - val_loss: 3.6170e-04\n",
      "Epoch 100/100\n",
      "20/20 [==============================] - 5s 234ms/step - loss: 3.0404e-04 - val_loss: 2.3650e-04\n"
     ]
    },
    {
     "data": {
      "text/plain": [
       "<keras.src.callbacks.History at 0x1ae6c6e3650>"
      ]
     },
     "execution_count": 37,
     "metadata": {},
     "output_type": "execute_result"
    }
   ],
   "source": [
    "model.fit(X_train, y_train, validation_data=(X_test, y_test), epochs = 100, batch_size = 64, verbose=1)"
   ]
  },
  {
   "cell_type": "code",
   "execution_count": 42,
   "id": "189b7ab4",
   "metadata": {},
   "outputs": [],
   "source": [
    "import tensorflow as tf"
   ]
  },
  {
   "cell_type": "code",
   "execution_count": 43,
   "id": "3646c527",
   "metadata": {},
   "outputs": [
    {
     "data": {
      "text/plain": [
       "'2.13.0'"
      ]
     },
     "execution_count": 43,
     "metadata": {},
     "output_type": "execute_result"
    }
   ],
   "source": [
    "tf.__version__"
   ]
  },
  {
   "cell_type": "code",
   "execution_count": 51,
   "id": "206fdcae",
   "metadata": {},
   "outputs": [
    {
     "name": "stdout",
     "output_type": "stream",
     "text": [
      "39/39 [==============================] - 1s 32ms/step\n",
      "20/20 [==============================] - 1s 39ms/step\n"
     ]
    }
   ],
   "source": [
    "### Lets Do the prediction and check performance metrics\n",
    "train_predict = model.predict(X_train)\n",
    "test_predict = model.predict(X_test)"
   ]
  },
  {
   "cell_type": "code",
   "execution_count": 52,
   "id": "2bdd5548",
   "metadata": {},
   "outputs": [],
   "source": [
    "train_predict = scaler.inverse_transform(train_predict)\n",
    "test_predict = scaler.inverse_transform(test_predict)"
   ]
  },
  {
   "cell_type": "code",
   "execution_count": 53,
   "id": "b084e2ec",
   "metadata": {},
   "outputs": [
    {
     "data": {
      "text/plain": [
       "163.37098612535772"
      ]
     },
     "execution_count": 53,
     "metadata": {},
     "output_type": "execute_result"
    }
   ],
   "source": [
    "### CAlculate RMSE performance metrics\n",
    "import math\n",
    "from sklearn.metrics import mean_squared_error\n",
    "math.sqrt(mean_squared_error(y_train, train_predict))"
   ]
  },
  {
   "cell_type": "markdown",
   "id": "c2dd82bc",
   "metadata": {},
   "source": [
    "# Predicting and Plotting "
   ]
  },
  {
   "cell_type": "code",
   "execution_count": 54,
   "id": "4c2b1709",
   "metadata": {},
   "outputs": [
    {
     "data": {
      "image/png": "[encoded data removed]",
      "text/plain": [
       "<Figure size 640x480 with 1 Axes>"
      ]
     },
     "metadata": {},
     "output_type": "display_data"
    }
   ],
   "source": [
    "# Plotting \n",
    "# shift train predictions for plotting\n",
    "look_back=100\n",
    "trainPredictPlot = numpy.empty_like(op)\n",
    "trainPredictPlot[:, :] = np.nan\n",
    "trainPredictPlot[look_back:len(train_predict)+look_back, :] = train_predict\n",
    "\n",
    "#shift test predictions fot plotting\n",
    "testPredictPlot = numpy.empty_like(op)\n",
    "testPredictPlot[:, :] = numpy.nan\n",
    "testPredictPlot[len(train_predict)+(look_back*2)+1:len(op)-1, :] = test_predict\n",
    "\n",
    "# plot baseline and predictions\n",
    "plt.plot(scaler.inverse_transform(op))\n",
    "plt.plot(trainPredictPlot)\n",
    "plt.plot(testPredictPlot)\n",
    "plt.show()"
   ]
  },
  {
   "cell_type": "markdown",
   "id": "adcef6dc",
   "metadata": {},
   "source": [
    "# Predict the data for 30 days and plot it"
   ]
  },
  {
   "cell_type": "code",
   "execution_count": 59,
   "id": "592ca98d",
   "metadata": {},
   "outputs": [
    {
     "data": {
      "text/plain": [
       "(1, 372)"
      ]
     },
     "execution_count": 59,
     "metadata": {},
     "output_type": "execute_result"
    }
   ],
   "source": [
    "x_input = test_data[341:].reshape(1,-1)\n",
    "x_input.shape"
   ]
  },
  {
   "cell_type": "code",
   "execution_count": 60,
   "id": "d2fd986b",
   "metadata": {},
   "outputs": [
    {
     "data": {
      "text/plain": [
       "[0.048053527980535304,\n",
       " 0.054947283049472884,\n",
       " 0.04927007299270075,\n",
       " 0.05231143552311435,\n",
       " 0.05231143552311435,\n",
       " 0.046228710462287104,\n",
       " 0.05636658556366586,\n",
       " 0.05616382806163833,\n",
       " 0.04339010543390104,\n",
       " 0.03994322789943233,\n",
       " 0.04014598540145986,\n",
       " 0.023317112733171108,\n",
       " 0.027980535279805374,\n",
       " 0.032441200324412,\n",
       " 0.031832927818329304,\n",
       " 0.03974047039740475,\n",
       " 0.019870235198702346,\n",
       " 0.02392538523925386,\n",
       " 0.01662611516626117,\n",
       " 0.020275750202757514,\n",
       " 0.035279805352798066,\n",
       " 0.02189781021897813,\n",
       " 0.02960259529602599,\n",
       " 0.02128953771289538,\n",
       " 0.0366991078669911,\n",
       " 0.031021897810219023,\n",
       " 0.03953771289537711,\n",
       " 0.04014598540145986,\n",
       " 0.042984590429845926,\n",
       " 0.03041362530413627,\n",
       " 0.0180454176804542,\n",
       " 0.01155717761557179,\n",
       " 0.011759935117599374,\n",
       " 0.004663422546634266,\n",
       " 0.005271695052717018,\n",
       " 0.0,\n",
       " 0.006082725060827243,\n",
       " 0.004055150040551514,\n",
       " 0.005677210056772131,\n",
       " 0.004460665044606682,\n",
       " 0.011759935117599374,\n",
       " 0.019464720194647234,\n",
       " 0.024736415247364196,\n",
       " 0.03284671532846717,\n",
       " 0.033454987834549865,\n",
       " 0.04176804541768048,\n",
       " 0.04055150040551503,\n",
       " 0.04257907542579076,\n",
       " 0.04055150040551503,\n",
       " 0.04014598540145986,\n",
       " 0.04318734793187351,\n",
       " 0.04136253041362531,\n",
       " 0.03203568532035689,\n",
       " 0.02392538523925386,\n",
       " 0.01824817518248173,\n",
       " 0.019870235198702346,\n",
       " 0.017842660178426617,\n",
       " 0.02372262773722633,\n",
       " 0.03081914030819144,\n",
       " 0.0360908353609084,\n",
       " 0.02879156528791571,\n",
       " 0.02189781021897813,\n",
       " 0.029197080291970823,\n",
       " 0.019870235198702346,\n",
       " 0.0204785077047851,\n",
       " 0.008515815085158196,\n",
       " 0.005879967558799715,\n",
       " 0.009732360097323645,\n",
       " 0.01338199513381999,\n",
       " 0.017842660178426617,\n",
       " 0.015206812652068136,\n",
       " 0.02270884022708841,\n",
       " 0.03264395782643964,\n",
       " 0.026763990267639926,\n",
       " 0.02392538523925386,\n",
       " 0.014801297648013023,\n",
       " 0.042173560421735645,\n",
       " 0.04257907542579076,\n",
       " 0.03892944038929441,\n",
       " 0.036496350364963515,\n",
       " 0.04906731549067317,\n",
       " 0.046228710462287104,\n",
       " 0.041159772911597725,\n",
       " 0.04379562043795626,\n",
       " 0.044201135442011374,\n",
       " 0.05616382806163833,\n",
       " 0.05515004055150041,\n",
       " 0.05636658556366586,\n",
       " 0.04055150040551503,\n",
       " 0.04521492295214924,\n",
       " 0.053527980535279795,\n",
       " 0.05636658556366586,\n",
       " 0.03994322789943233,\n",
       " 0.04927007299270075,\n",
       " 0.04379562043795626,\n",
       " 0.04744525547445255,\n",
       " 0.044201135442011374,\n",
       " 0.031224655312246552,\n",
       " 0.02007299270072993,\n",
       " 0.060421735604217375,\n",
       " 0.06893755068937552,\n",
       " 0.09184914841849151,\n",
       " 0.09164639091646393,\n",
       " 0.10077047850770482,\n",
       " 0.09610705596107055,\n",
       " 0.08678021086780213,\n",
       " 0.08880778588807786,\n",
       " 0.10948905109489049,\n",
       " 0.11070559610705599,\n",
       " 0.09164639091646393,\n",
       " 0.09935117599351173,\n",
       " 0.10989456609894571,\n",
       " 0.10827250608272504,\n",
       " 0.10543390105433903,\n",
       " 0.10056772100567724,\n",
       " 0.10056772100567724,\n",
       " 0.09083536090835365,\n",
       " 0.07765612327656124,\n",
       " 0.0804947283049473,\n",
       " 0.08880778588807786,\n",
       " 0.08941605839416061,\n",
       " 0.08069748580697489,\n",
       " 0.09042984590429848,\n",
       " 0.0786699107866991,\n",
       " 0.08069748580697489,\n",
       " 0.09691808596918089,\n",
       " 0.07704785077047849,\n",
       " 0.09610705596107055,\n",
       " 0.09266017842660179,\n",
       " 0.08982157339821573,\n",
       " 0.09975669099756695,\n",
       " 0.07177615571776158,\n",
       " 0.0685320356853204,\n",
       " 0.049878345498783505,\n",
       " 0.051094890510948954,\n",
       " 0.048053527980535304,\n",
       " 0.040348742903487445,\n",
       " 0.042173560421735645,\n",
       " 0.037307380373073795,\n",
       " 0.051094890510948954,\n",
       " 0.05433901054339013,\n",
       " 0.07137064071370641,\n",
       " 0.064882400648824,\n",
       " 0.06812652068126523,\n",
       " 0.07643957826439579,\n",
       " 0.08008921330089214,\n",
       " 0.060421735604217375,\n",
       " 0.06407137064071372,\n",
       " 0.07177615571776158,\n",
       " 0.05961070559610704,\n",
       " 0.05231143552311435,\n",
       " 0.04541768045417682,\n",
       " 0.05231143552311435,\n",
       " 0.04257907542579076,\n",
       " 0.027980535279805374,\n",
       " 0.02696674776966751,\n",
       " 0.03041362530413627,\n",
       " 0.01885644768856448,\n",
       " 0.030008110300081103,\n",
       " 0.044809407948094127,\n",
       " 0.06103000811030013,\n",
       " 0.06650446066504462,\n",
       " 0.06123276561232771,\n",
       " 0.0642741281427413,\n",
       " 0.06650446066504462,\n",
       " 0.06549067315490675,\n",
       " 0.07319545823195461,\n",
       " 0.0685320356853204,\n",
       " 0.07988645579886455,\n",
       " 0.07887266828872669,\n",
       " 0.0685320356853204,\n",
       " 0.0691403081914031,\n",
       " 0.06812652068126523,\n",
       " 0.06812652068126523,\n",
       " 0.07583130575831304,\n",
       " 0.07684509326845096,\n",
       " 0.08069748580697489,\n",
       " 0.08759124087591241,\n",
       " 0.09610705596107055,\n",
       " 0.09894566098945662,\n",
       " 0.08657745336577455,\n",
       " 0.08860502838605033,\n",
       " 0.08272506082725062,\n",
       " 0.08475263584752635,\n",
       " 0.0786699107866991,\n",
       " 0.09083536090835365,\n",
       " 0.09083536090835365,\n",
       " 0.08373884833738848,\n",
       " 0.09549878345498786,\n",
       " 0.11415247364152475,\n",
       " 0.1064476885644769,\n",
       " 0.104014598540146,\n",
       " 0.10421735604217358,\n",
       " 0.08069748580697489,\n",
       " 0.06751824817518248,\n",
       " 0.06630170316301703,\n",
       " 0.06650446066504462,\n",
       " 0.07055961070559613,\n",
       " 0.06934306569343068,\n",
       " 0.07542579075425793,\n",
       " 0.0685320356853204,\n",
       " 0.06873479318734793,\n",
       " 0.06954582319545827,\n",
       " 0.07137064071370641,\n",
       " 0.06934306569343068,\n",
       " 0.0685320356853204,\n",
       " 0.07258718572587186,\n",
       " 0.07542579075425793,\n",
       " 0.08718572587185724,\n",
       " 0.06082725060827249,\n",
       " 0.06001622060016226,\n",
       " 0.055352798053527996,\n",
       " 0.03203568532035689,\n",
       " 0.0360908353609084,\n",
       " 0.037307380373073795,\n",
       " 0.04014598540145986,\n",
       " 0.035279805352798066,\n",
       " 0.027980535279805374,\n",
       " 0.030008110300081103,\n",
       " 0.05879967558799676,\n",
       " 0.06326034063260344,\n",
       " 0.060421735604217375,\n",
       " 0.05798864557988648,\n",
       " 0.08272506082725062,\n",
       " 0.05961070559610704,\n",
       " 0.05981346309813462,\n",
       " 0.057785888077858893,\n",
       " 0.046025952960259575,\n",
       " 0.031021897810219023,\n",
       " 0.02879156528791571,\n",
       " 0.04825628548256289,\n",
       " 0.060421735604217375,\n",
       " 0.06731549067315495,\n",
       " 0.062449310624493104,\n",
       " 0.06650446066504462,\n",
       " 0.07177615571776158,\n",
       " 0.08069748580697489,\n",
       " 0.07319545823195461,\n",
       " 0.1009732360097324,\n",
       " 0.10178426601784268,\n",
       " 0.10502838605028386,\n",
       " 0.09529602595296027,\n",
       " 0.1009732360097324,\n",
       " 0.097323600973236,\n",
       " 0.09712084347120842,\n",
       " 0.10016220600162207,\n",
       " 0.09813463098134634,\n",
       " 0.097323600973236,\n",
       " 0.09205190592051904,\n",
       " 0.08759124087591241,\n",
       " 0.09509326845093269,\n",
       " 0.11192214111922144,\n",
       " 0.1257096512570965,\n",
       " 0.12895377128953772,\n",
       " 0.13037307380373075,\n",
       " 0.12489862124898626,\n",
       " 0.11313868613138689,\n",
       " 0.1111111111111111,\n",
       " 0.11922141119221413,\n",
       " 0.11901865369018655,\n",
       " 0.12043795620437958,\n",
       " 0.1293592862935929,\n",
       " 0.12854825628548255,\n",
       " 0.1334144363341444,\n",
       " 0.14476885644768855,\n",
       " 0.1453771289537713,\n",
       " 0.13746958637469586,\n",
       " 0.13665855636658558,\n",
       " 0.13665855636658558,\n",
       " 0.13118410381184104,\n",
       " 0.1334144363341444,\n",
       " 0.12327656123276565,\n",
       " 0.14111922141119226,\n",
       " 0.13746958637469586,\n",
       " 0.13990267639902676,\n",
       " 0.13017031630170317,\n",
       " 0.14152473641524738,\n",
       " 0.14111922141119226,\n",
       " 0.13138686131386862,\n",
       " 0.1291565287915653,\n",
       " 0.1309813463098135,\n",
       " 0.126926196269262,\n",
       " 0.15166261151662613,\n",
       " 0.15004055150040552,\n",
       " 0.1419302514193025,\n",
       " 0.16017842660178427,\n",
       " 0.15693430656934304,\n",
       " 0.16504460665044607,\n",
       " 0.17700729927007297,\n",
       " 0.1814679643146796,\n",
       " 0.18815896188158965,\n",
       " 0.2092457420924574,\n",
       " 0.19424168694241684,\n",
       " 0.18106244931062454,\n",
       " 0.18207623682076235,\n",
       " 0.19606650446066498,\n",
       " 0.1768045417680454,\n",
       " 0.18207623682076235,\n",
       " 0.18004866180048662,\n",
       " 0.18207623682076235,\n",
       " 0.1887672343876724,\n",
       " 0.19383617193836178,\n",
       " 0.1909975669099756,\n",
       " 0.19505271695052717,\n",
       " 0.1980940794809407,\n",
       " 0.20640713706407143,\n",
       " 0.19748580697485807,\n",
       " 0.19525547445255476,\n",
       " 0.2043795620437956,\n",
       " 0.19870235198702346,\n",
       " 0.21796431467964317,\n",
       " 0.21553122465531227,\n",
       " 0.20600162206001627,\n",
       " 0.21654501216545008,\n",
       " 0.21654501216545008,\n",
       " 0.217558799675588,\n",
       " 0.19870235198702346,\n",
       " 0.19018653690186538,\n",
       " 0.1780210867802109,\n",
       " 0.17558799675588,\n",
       " 0.16301703163017034,\n",
       " 0.1670721816707218,\n",
       " 0.1711273317112733,\n",
       " 0.17639902676399022,\n",
       " 0.18349553933495533,\n",
       " 0.171735604217356,\n",
       " 0.16423357664233573,\n",
       " 0.16991078669910786,\n",
       " 0.17619626926196275,\n",
       " 0.16788321167883213,\n",
       " 0.16909975669099758,\n",
       " 0.17396593673965932,\n",
       " 0.17741281427412814,\n",
       " 0.1826845093268451,\n",
       " 0.1922141119221411,\n",
       " 0.18896999188969998,\n",
       " 0.19018653690186538,\n",
       " 0.17396593673965932,\n",
       " 0.17092457420924573,\n",
       " 0.16788321167883213,\n",
       " 0.17477696674776966,\n",
       " 0.16443633414436337,\n",
       " 0.1455798864557989,\n",
       " 0.15287915652879158,\n",
       " 0.15369018653690186,\n",
       " 0.15044606650446068,\n",
       " 0.14152473641524738,\n",
       " 0.15145985401459855,\n",
       " 0.1334144363341444,\n",
       " 0.12530413625304138,\n",
       " 0.11719383617193835,\n",
       " 0.1178021086780211,\n",
       " 0.12489862124898626,\n",
       " 0.1413219789132198,\n",
       " 0.1309813463098135,\n",
       " 0.1293592862935929,\n",
       " 0.13240064882400648,\n",
       " 0.12895377128953772,\n",
       " 0.12530413625304138,\n",
       " 0.13381995133819952,\n",
       " 0.1455798864557989,\n",
       " 0.15166261151662613,\n",
       " 0.1508515815085158,\n",
       " 0.14679643146796434,\n",
       " 0.1435523114355231,\n",
       " 0.1273317112733171,\n",
       " 0.14963503649635035,\n",
       " 0.14801297648012973,\n",
       " 0.1581508515815085,\n",
       " 0.16504460665044607,\n",
       " 0.15896188158961883,\n",
       " 0.16626115166261152]"
      ]
     },
     "execution_count": 60,
     "metadata": {},
     "output_type": "execute_result"
    }
   ],
   "source": [
    "temp_input = list(x_input)\n",
    "temp_input = temp_input[0].tolist()\n",
    "temp_input"
   ]
  },
  {
   "cell_type": "code",
   "execution_count": 61,
   "id": "f6ead930",
   "metadata": {},
   "outputs": [
    {
     "name": "stdout",
     "output_type": "stream",
     "text": [
      "0 day input [0.05494728 0.04927007 0.05231144 0.05231144 0.04622871 0.05636659\n",
      " 0.05616383 0.04339011 0.03994323 0.04014599 0.02331711 0.02798054\n",
      " 0.0324412  0.03183293 0.03974047 0.01987024 0.02392539 0.01662612\n",
      " 0.02027575 0.03527981 0.02189781 0.0296026  0.02128954 0.03669911\n",
      " 0.0310219  0.03953771 0.04014599 0.04298459 0.03041363 0.01804542\n",
      " 0.01155718 0.01175994 0.00466342 0.0052717  0.         0.00608273\n",
      " 0.00405515 0.00567721 0.00446067 0.01175994 0.01946472 0.02473642\n",
      " 0.03284672 0.03345499 0.04176805 0.0405515  0.04257908 0.0405515\n",
      " 0.04014599 0.04318735 0.04136253 0.03203569 0.02392539 0.01824818\n",
      " 0.01987024 0.01784266 0.02372263 0.03081914 0.03609084 0.02879157\n",
      " 0.02189781 0.02919708 0.01987024 0.02047851 0.00851582 0.00587997\n",
      " 0.00973236 0.013382   0.01784266 0.01520681 0.02270884 0.03264396\n",
      " 0.02676399 0.02392539 0.0148013  0.04217356 0.04257908 0.03892944\n",
      " 0.03649635 0.04906732 0.04622871 0.04115977 0.04379562 0.04420114\n",
      " 0.05616383 0.05515004 0.05636659 0.0405515  0.04521492 0.05352798\n",
      " 0.05636659 0.03994323 0.04927007 0.04379562 0.04744526 0.04420114\n",
      " 0.03122466 0.02007299 0.06042174 0.06893755 0.09184915 0.09164639\n",
      " 0.10077048 0.09610706 0.08678021 0.08880779 0.10948905 0.1107056\n",
      " 0.09164639 0.09935118 0.10989457 0.10827251 0.1054339  0.10056772\n",
      " 0.10056772 0.09083536 0.07765612 0.08049473 0.08880779 0.08941606\n",
      " 0.08069749 0.09042985 0.07866991 0.08069749 0.09691809 0.07704785\n",
      " 0.09610706 0.09266018 0.08982157 0.09975669 0.07177616 0.06853204\n",
      " 0.04987835 0.05109489 0.04805353 0.04034874 0.04217356 0.03730738\n",
      " 0.05109489 0.05433901 0.07137064 0.0648824  0.06812652 0.07643958\n",
      " 0.08008921 0.06042174 0.06407137 0.07177616 0.05961071 0.05231144\n",
      " 0.04541768 0.05231144 0.04257908 0.02798054 0.02696675 0.03041363\n",
      " 0.01885645 0.03000811 0.04480941 0.06103001 0.06650446 0.06123277\n",
      " 0.06427413 0.06650446 0.06549067 0.07319546 0.06853204 0.07988646\n",
      " 0.07887267 0.06853204 0.06914031 0.06812652 0.06812652 0.07583131\n",
      " 0.07684509 0.08069749 0.08759124 0.09610706 0.09894566 0.08657745\n",
      " 0.08860503 0.08272506 0.08475264 0.07866991 0.09083536 0.09083536\n",
      " 0.08373885 0.09549878 0.11415247 0.10644769 0.1040146  0.10421736\n",
      " 0.08069749 0.06751825 0.0663017  0.06650446 0.07055961 0.06934307\n",
      " 0.07542579 0.06853204 0.06873479 0.06954582 0.07137064 0.06934307\n",
      " 0.06853204 0.07258719 0.07542579 0.08718573 0.06082725 0.06001622\n",
      " 0.0553528  0.03203569 0.03609084 0.03730738 0.04014599 0.03527981\n",
      " 0.02798054 0.03000811 0.05879968 0.06326034 0.06042174 0.05798865\n",
      " 0.08272506 0.05961071 0.05981346 0.05778589 0.04602595 0.0310219\n",
      " 0.02879157 0.04825629 0.06042174 0.06731549 0.06244931 0.06650446\n",
      " 0.07177616 0.08069749 0.07319546 0.10097324 0.10178427 0.10502839\n",
      " 0.09529603 0.10097324 0.0973236  0.09712084 0.10016221 0.09813463\n",
      " 0.0973236  0.09205191 0.08759124 0.09509327 0.11192214 0.12570965\n",
      " 0.12895377 0.13037307 0.12489862 0.11313869 0.11111111 0.11922141\n",
      " 0.11901865 0.12043796 0.12935929 0.12854826 0.13341444 0.14476886\n",
      " 0.14537713 0.13746959 0.13665856 0.13665856 0.1311841  0.13341444\n",
      " 0.12327656 0.14111922 0.13746959 0.13990268 0.13017032 0.14152474\n",
      " 0.14111922 0.13138686 0.12915653 0.13098135 0.1269262  0.15166261\n",
      " 0.15004055 0.14193025 0.16017843 0.15693431 0.16504461 0.1770073\n",
      " 0.18146796 0.18815896 0.20924574 0.19424169 0.18106245 0.18207624\n",
      " 0.1960665  0.17680454 0.18207624 0.18004866 0.18207624 0.18876723\n",
      " 0.19383617 0.19099757 0.19505272 0.19809408 0.20640714 0.19748581\n",
      " 0.19525547 0.20437956 0.19870235 0.21796431 0.21553122 0.20600162\n",
      " 0.21654501 0.21654501 0.2175588  0.19870235 0.19018654 0.17802109\n",
      " 0.175588   0.16301703 0.16707218 0.17112733 0.17639903 0.18349554\n",
      " 0.1717356  0.16423358 0.16991079 0.17619627 0.16788321 0.16909976\n",
      " 0.17396594 0.17741281 0.18268451 0.19221411 0.18896999 0.19018654\n",
      " 0.17396594 0.17092457 0.16788321 0.17477697 0.16443633 0.14557989\n",
      " 0.15287916 0.15369019 0.15044607 0.14152474 0.15145985 0.13341444\n",
      " 0.12530414 0.11719384 0.11780211 0.12489862 0.14132198 0.13098135\n",
      " 0.12935929 0.13240065 0.12895377 0.12530414 0.13381995 0.14557989\n",
      " 0.15166261 0.15085158 0.14679643 0.14355231 0.12733171 0.14963504\n",
      " 0.14801298 0.15815085 0.16504461 0.15896188 0.16626115]\n"
     ]
    },
    {
     "ename": "ValueError",
     "evalue": "cannot reshape array of size 371 into shape (1,100,1)",
     "output_type": "error",
     "traceback": [
      "\u001b[1;31m---------------------------------------------------------------------------\u001b[0m",
      "\u001b[1;31mValueError\u001b[0m                                Traceback (most recent call last)",
      "Cell \u001b[1;32mIn[61], line 13\u001b[0m\n\u001b[0;32m     11\u001b[0m \u001b[38;5;28mprint\u001b[39m(\u001b[38;5;124m\"\u001b[39m\u001b[38;5;132;01m{}\u001b[39;00m\u001b[38;5;124m day input \u001b[39m\u001b[38;5;132;01m{}\u001b[39;00m\u001b[38;5;124m\"\u001b[39m\u001b[38;5;241m.\u001b[39mformat(i, x_input))\n\u001b[0;32m     12\u001b[0m x_input \u001b[38;5;241m=\u001b[39m x_input\u001b[38;5;241m.\u001b[39mreshape(\u001b[38;5;241m1\u001b[39m,\u001b[38;5;241m-\u001b[39m\u001b[38;5;241m1\u001b[39m)\n\u001b[1;32m---> 13\u001b[0m x_input \u001b[38;5;241m=\u001b[39m x_input\u001b[38;5;241m.\u001b[39mreshape((\u001b[38;5;241m1\u001b[39m, n_steps, \u001b[38;5;241m1\u001b[39m))\n\u001b[0;32m     14\u001b[0m \u001b[38;5;66;03m#print(x_input)\u001b[39;00m\n\u001b[0;32m     15\u001b[0m yhat \u001b[38;5;241m=\u001b[39m model\u001b[38;5;241m.\u001b[39mpredict(x_input, verbose\u001b[38;5;241m=\u001b[39m\u001b[38;5;241m0\u001b[39m)\n",
      "\u001b[1;31mValueError\u001b[0m: cannot reshape array of size 371 into shape (1,100,1)"
     ]
    }
   ],
   "source": [
    "# demonstrate prediciton for next 30 days\n",
    "from numpy import array\n",
    "\n",
    "lst_output = []\n",
    "n_steps = 100\n",
    "i=0\n",
    "while(i<30):\n",
    "    if(len(temp_input)>100):\n",
    "        #print (temp_input)\n",
    "        x_input=np.array(temp_input[1:])\n",
    "        print(\"{} day input {}\".format(i, x_input))\n",
    "        x_input = x_input.reshape(1,-1)\n",
    "        x_input = x_input.reshape((1, n_steps, 1))\n",
    "        #print(x_input)\n",
    "        yhat = model.predict(x_input, verbose=0)\n",
    "        print(\"{} day output {}\".format(i, yhat))\n",
    "        temp_input.extend(yhat[0].tolist())\n",
    "        temp_input = temp_input[1:]\n",
    "        #print(temp_input)\n",
    "        lst_output.extend(yhat.tolist())\n",
    "        i=i+1\n",
    "    else:\n",
    "        x_input = x_input.reshape((1, n_steps, 1))\n",
    "        yhat = model.predict(x_input, verbose=0)\n",
    "        print(yhat[0])\n",
    "        temp_input.extend(yhat[0].tolist())\n",
    "        print(len(temp_input))\n",
    "        lst_output.extend(yhat.tolist())\n",
    "        i=i+1\n",
    "\n",
    "print(lst_output)"
   ]
  },
  {
   "cell_type": "code",
   "execution_count": 63,
   "id": "7fb0345d",
   "metadata": {},
   "outputs": [],
   "source": [
    "day_new = np.arange(1,101)\n",
    "day_pred = np.arange(101,131)"
   ]
  },
  {
   "cell_type": "code",
   "execution_count": 64,
   "id": "8c0b3a64",
   "metadata": {},
   "outputs": [],
   "source": [
    "import matplotlib.pyplot as plt"
   ]
  },
  {
   "cell_type": "code",
   "execution_count": 65,
   "id": "d5876551",
   "metadata": {},
   "outputs": [
    {
     "data": {
      "text/plain": [
       "2035"
      ]
     },
     "execution_count": 65,
     "metadata": {},
     "output_type": "execute_result"
    }
   ],
   "source": [
    "len(op)"
   ]
  },
  {
   "cell_type": "code",
   "execution_count": 66,
   "id": "849a8336",
   "metadata": {},
   "outputs": [],
   "source": [
    "new_op = op.tolist()\n",
    "new_op.extend(lst_output)"
   ]
  },
  {
   "cell_type": "code",
   "execution_count": 70,
   "id": "e9d73f38",
   "metadata": {},
   "outputs": [
    {
     "ename": "ValueError",
     "evalue": "Expected 2D array, got 1D array instead:\narray=[].\nReshape your data either using array.reshape(-1, 1) if your data has a single feature or array.reshape(1, -1) if it contains a single sample.",
     "output_type": "error",
     "traceback": [
      "\u001b[1;31m---------------------------------------------------------------------------\u001b[0m",
      "\u001b[1;31mValueError\u001b[0m                                Traceback (most recent call last)",
      "Cell \u001b[1;32mIn[70], line 2\u001b[0m\n\u001b[0;32m      1\u001b[0m plt\u001b[38;5;241m.\u001b[39mplot(day_new,scaler\u001b[38;5;241m.\u001b[39minverse_transform(op[\u001b[38;5;241m1935\u001b[39m:]))\n\u001b[1;32m----> 2\u001b[0m plt\u001b[38;5;241m.\u001b[39mplot(day_pred, scaler\u001b[38;5;241m.\u001b[39minverse_transform(lst_output))\n",
      "File \u001b[1;32m~\\anaconda3\\Lib\\site-packages\\sklearn\\preprocessing\\_data.py:543\u001b[0m, in \u001b[0;36mMinMaxScaler.inverse_transform\u001b[1;34m(self, X)\u001b[0m\n\u001b[0;32m    529\u001b[0m \u001b[38;5;250m\u001b[39m\u001b[38;5;124;03m\"\"\"Undo the scaling of X according to feature_range.\u001b[39;00m\n\u001b[0;32m    530\u001b[0m \n\u001b[0;32m    531\u001b[0m \u001b[38;5;124;03mParameters\u001b[39;00m\n\u001b[1;32m   (...)\u001b[0m\n\u001b[0;32m    539\u001b[0m \u001b[38;5;124;03m    Transformed data.\u001b[39;00m\n\u001b[0;32m    540\u001b[0m \u001b[38;5;124;03m\"\"\"\u001b[39;00m\n\u001b[0;32m    541\u001b[0m check_is_fitted(\u001b[38;5;28mself\u001b[39m)\n\u001b[1;32m--> 543\u001b[0m X \u001b[38;5;241m=\u001b[39m check_array(\n\u001b[0;32m    544\u001b[0m     X, copy\u001b[38;5;241m=\u001b[39m\u001b[38;5;28mself\u001b[39m\u001b[38;5;241m.\u001b[39mcopy, dtype\u001b[38;5;241m=\u001b[39mFLOAT_DTYPES, force_all_finite\u001b[38;5;241m=\u001b[39m\u001b[38;5;124m\"\u001b[39m\u001b[38;5;124mallow-nan\u001b[39m\u001b[38;5;124m\"\u001b[39m\n\u001b[0;32m    545\u001b[0m )\n\u001b[0;32m    547\u001b[0m X \u001b[38;5;241m-\u001b[39m\u001b[38;5;241m=\u001b[39m \u001b[38;5;28mself\u001b[39m\u001b[38;5;241m.\u001b[39mmin_\n\u001b[0;32m    548\u001b[0m X \u001b[38;5;241m/\u001b[39m\u001b[38;5;241m=\u001b[39m \u001b[38;5;28mself\u001b[39m\u001b[38;5;241m.\u001b[39mscale_\n",
      "File \u001b[1;32m~\\anaconda3\\Lib\\site-packages\\sklearn\\utils\\validation.py:940\u001b[0m, in \u001b[0;36mcheck_array\u001b[1;34m(array, accept_sparse, accept_large_sparse, dtype, order, copy, force_all_finite, ensure_2d, allow_nd, ensure_min_samples, ensure_min_features, estimator, input_name)\u001b[0m\n\u001b[0;32m    938\u001b[0m     \u001b[38;5;66;03m# If input is 1D raise error\u001b[39;00m\n\u001b[0;32m    939\u001b[0m     \u001b[38;5;28;01mif\u001b[39;00m array\u001b[38;5;241m.\u001b[39mndim \u001b[38;5;241m==\u001b[39m \u001b[38;5;241m1\u001b[39m:\n\u001b[1;32m--> 940\u001b[0m         \u001b[38;5;28;01mraise\u001b[39;00m \u001b[38;5;167;01mValueError\u001b[39;00m(\n\u001b[0;32m    941\u001b[0m             \u001b[38;5;124m\"\u001b[39m\u001b[38;5;124mExpected 2D array, got 1D array instead:\u001b[39m\u001b[38;5;130;01m\\n\u001b[39;00m\u001b[38;5;124marray=\u001b[39m\u001b[38;5;132;01m{}\u001b[39;00m\u001b[38;5;124m.\u001b[39m\u001b[38;5;130;01m\\n\u001b[39;00m\u001b[38;5;124m\"\u001b[39m\n\u001b[0;32m    942\u001b[0m             \u001b[38;5;124m\"\u001b[39m\u001b[38;5;124mReshape your data either using array.reshape(-1, 1) if \u001b[39m\u001b[38;5;124m\"\u001b[39m\n\u001b[0;32m    943\u001b[0m             \u001b[38;5;124m\"\u001b[39m\u001b[38;5;124myour data has a single feature or array.reshape(1, -1) \u001b[39m\u001b[38;5;124m\"\u001b[39m\n\u001b[0;32m    944\u001b[0m             \u001b[38;5;124m\"\u001b[39m\u001b[38;5;124mif it contains a single sample.\u001b[39m\u001b[38;5;124m\"\u001b[39m\u001b[38;5;241m.\u001b[39mformat(array)\n\u001b[0;32m    945\u001b[0m         )\n\u001b[0;32m    947\u001b[0m \u001b[38;5;28;01mif\u001b[39;00m dtype_numeric \u001b[38;5;129;01mand\u001b[39;00m \u001b[38;5;28mhasattr\u001b[39m(array\u001b[38;5;241m.\u001b[39mdtype, \u001b[38;5;124m\"\u001b[39m\u001b[38;5;124mkind\u001b[39m\u001b[38;5;124m\"\u001b[39m) \u001b[38;5;129;01mand\u001b[39;00m array\u001b[38;5;241m.\u001b[39mdtype\u001b[38;5;241m.\u001b[39mkind \u001b[38;5;129;01min\u001b[39;00m \u001b[38;5;124m\"\u001b[39m\u001b[38;5;124mUSV\u001b[39m\u001b[38;5;124m\"\u001b[39m:\n\u001b[0;32m    948\u001b[0m     \u001b[38;5;28;01mraise\u001b[39;00m \u001b[38;5;167;01mValueError\u001b[39;00m(\n\u001b[0;32m    949\u001b[0m         \u001b[38;5;124m\"\u001b[39m\u001b[38;5;124mdtype=\u001b[39m\u001b[38;5;124m'\u001b[39m\u001b[38;5;124mnumeric\u001b[39m\u001b[38;5;124m'\u001b[39m\u001b[38;5;124m is not compatible with arrays of bytes/strings.\u001b[39m\u001b[38;5;124m\"\u001b[39m\n\u001b[0;32m    950\u001b[0m         \u001b[38;5;124m\"\u001b[39m\u001b[38;5;124mConvert your data to numeric values explicitly instead.\u001b[39m\u001b[38;5;124m\"\u001b[39m\n\u001b[0;32m    951\u001b[0m     )\n",
      "\u001b[1;31mValueError\u001b[0m: Expected 2D array, got 1D array instead:\narray=[].\nReshape your data either using array.reshape(-1, 1) if your data has a single feature or array.reshape(1, -1) if it contains a single sample."
     ]
    },
    {
     "data": {
      "image/png": "[encoded data removed]",
      "text/plain": [
       "<Figure size 640x480 with 1 Axes>"
      ]
     },
     "metadata": {},
     "output_type": "display_data"
    }
   ],
   "source": [
    "plt.plot(day_new,scaler.inverse_transform(op[1935:]))\n",
    "plt.plot(day_pred, scaler.inverse_transform(lst_output))"
   ]
  },
  {
   "cell_type": "code",
   "execution_count": 71,
   "id": "568be4d6",
   "metadata": {},
   "outputs": [
    {
     "data": {
      "text/plain": [
       "[<matplotlib.lines.Line2D at 0x1ae7d2dfc50>]"
      ]
     },
     "execution_count": 71,
     "metadata": {},
     "output_type": "execute_result"
    },
    {
     "data": {
      "image/png": "[encoded data removed]",
      "text/plain": [
       "<Figure size 640x480 with 1 Axes>"
      ]
     },
     "metadata": {},
     "output_type": "display_data"
    }
   ],
   "source": [
    "plt.plot(new_op[1000:])"
   ]
  },
  {
   "cell_type": "code",
   "execution_count": null,
   "id": "d047f94f",
   "metadata": {},
   "outputs": [],
   "source": []
  }
 ],
 "metadata": {
  "kernelspec": {
   "display_name": "Python 3 (ipykernel)",
   "language": "python",
   "name": "python3"
  },
  "language_info": {
   "codemirror_mode": {
    "name": "ipython",
    "version": 3
   },
   "file_extension": ".py",
   "mimetype": "text/x-python",
   "name": "python",
   "nbconvert_exporter": "python",
   "pygments_lexer": "ipython3",
   "version": "3.11.4"
  }
 },
 "nbformat": 4,
 "nbformat_minor": 5
}
